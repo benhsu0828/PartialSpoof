{
 "cells": [
  {
   "cell_type": "markdown",
   "metadata": {},
   "source": [
    "# Tensor shape\n",
    "\n",
    "After the raw and waveform data are loaded from external files, they are stored as Numpy array. However, to use those data in Pytorch, we need to further convert the Numpy arrays to Pytorch tensors. \n",
    "\n",
    "Conversion from Numpy array to Pytorch tensor is straightforward (see [Pytorch tutorial](https://pytorch.org/tutorials/beginner/blitz/tensor_tutorial.html#numpy-bridge)). However, what is difficult is that different Pytorch APIs may expect different tensor shapes.\n",
    "\n",
    "In this notebook, we mainly explain the semantics of tensor dimension for this NSF Pytorch project.\n",
    "\n",
    "**Tensor shape**: we assume all tensors are in shape **(batchsize, length, dim-1, dim-2, ...)**, where \n",
    "   * batchsize: batch size of a data batch;\n",
    "   * length: maximum length of data sequences in the batch;\n",
    "   * dim-1: dimension of feature vector in one time step;\n",
    "   * dim-2: when a feature vector per time step has more than 1 dimension;\n",
    "   \n",
    "Note that *Length* is equivalent to the number of frames or number of waveform sampling points.\n",
    "   \n",
    "<!-- Hidden layers should not change **batchsize** and **length** of input tensors unless specified (e.g., in down-sampling, up-sampling layers) -->\n"
   ]
  },
  {
   "cell_type": "markdown",
   "metadata": {},
   "source": [
    "### 1. Examples on tensor shape"
   ]
  },
  {
   "cell_type": "code",
   "execution_count": 1,
   "metadata": {},
   "outputs": [],
   "source": [
    "# At the begining, let's load packages \n",
    "from __future__ import absolute_import\n",
    "from __future__ import print_function\n",
    "import sys\n",
    "import numpy as np\n",
    "import torch\n",
    "\n",
    "import tool_lib\n",
    "import matplotlib\n",
    "import matplotlib.pyplot as plt\n",
    "matplotlib.rcParams['figure.figsize'] = (10, 5)\n"
   ]
  },
  {
   "cell_type": "code",
   "execution_count": 2,
   "metadata": {},
   "outputs": [
    {
     "name": "stdout",
     "output_type": "stream",
     "text": [
      "Shape of original data: (554, 80)\n",
      "Shape of data as tensor: torch.Size([1, 554, 80])\n"
     ]
    }
   ],
   "source": [
    "# load mel and F0\n",
    "mel_dim = 80\n",
    "input_mel = tool_lib.read_raw_mat(\"data_models/acoustic_features/hn_nsf/slt_arctic_b0474.mfbsp\", mel_dim)\n",
    "\n",
    "# convert it into the required tensor format\n",
    "input_mel_tensor = torch.tensor(input_mel).unsqueeze(0)\n",
    "\n",
    "print(\"Shape of original data: \" + str(input_mel.shape))\n",
    "print(\"Shape of data as tensor: \" + str(input_mel_tensor.shape))"
   ]
  },
  {
   "cell_type": "code",
   "execution_count": 3,
   "metadata": {},
   "outputs": [
    {
     "data": {
      "text/plain": [
       "tensor([[0., 0., 0.,  ..., 0., 0., 0.],\n",
       "        [0., 0., 0.,  ..., 0., 0., 0.],\n",
       "        [0., 0., 0.,  ..., 0., 0., 0.],\n",
       "        ...,\n",
       "        [0., 0., 0.,  ..., 0., 0., 0.],\n",
       "        [0., 0., 0.,  ..., 0., 0., 0.],\n",
       "        [0., 0., 0.,  ..., 0., 0., 0.]])"
      ]
     },
     "execution_count": 3,
     "metadata": {},
     "output_type": "execute_result"
    }
   ],
   "source": [
    "input_mel_tensor[0] - input_mel"
   ]
  },
  {
   "cell_type": "markdown",
   "metadata": {},
   "source": [
    "In the example above, the input_mel_tensor has shape (1, 554, 80), where\n",
    "* 1: this batch has only one data\n",
    "* 554: the data has 554 frames\n",
    "* 80: each frame has 80 dimensions"
   ]
  },
  {
   "cell_type": "markdown",
   "metadata": {},
   "source": [
    "### 2. Note\n",
    "\n",
    "In the tutorial notebooks, we manually add the dimension corresponding to batch and create tensors from the Numpy array. \n",
    "\n",
    "In NSF project-NN-Pytorch-scripts, the default data io wrapped over [torch.utils.data.Dataset](https://pytorch.org/docs/stable/data.html#map-style-datasets) and [torch.utils.data.DataLoader](https://pytorch.org/docs/stable/data.html#torch.utils.data.DataLoader) will automatically create tensor in (batchsize, N, M). Users just need to store the raw data in correct float32 format, the default data IO will automatically handle the conversion.\n",
    "\n",
    "<!-- When all the data files in the dataset have the same shape \\[N, M\\], the default IO can return a mini-batch (batchsize>1, N, M). Otherwise, it can only put a single sample in each mini-batch. -->\n",
    "\n",
    "In the tutorial notebooks, we may use batchsize>1 for demonstrations. In NSF project-NN-Pytorch-scripts, we only use batchsize=1 for NSF models training. \n"
   ]
  },
  {
   "cell_type": "markdown",
   "metadata": {},
   "source": [
    "### 3. Misc\n",
    "\n",
    "Here is one function to plot tensors of shape (batchsize, length, dim)"
   ]
  },
  {
   "cell_type": "code",
   "execution_count": 4,
   "metadata": {},
   "outputs": [
    {
     "data": {
      "text/plain": [
       "(<Figure size 540x36 with 1 Axes>,\n",
       " [<matplotlib.axes._axes.Axes at 0x7f955b986110>])"
      ]
     },
     "execution_count": 4,
     "metadata": {},
     "output_type": "execute_result"
    },
    {
     "data": {
      "image/png": "[encoded data removed]",
      "text/plain": [
       "<Figure size 115.2x187.2 with 2 Axes>"
      ]
     },
     "metadata": {
      "needs_background": "light"
     },
     "output_type": "display_data"
    },
    {
     "data": {
      "image/png": "[encoded data removed]",
      "text/plain": [
       "<Figure size 108x180 with 1 Axes>"
      ]
     },
     "metadata": {
      "needs_background": "light"
     },
     "output_type": "display_data"
    },
    {
     "data": {
      "image/png": "[encoded data removed]",
      "text/plain": [
       "<Figure size 540x36 with 1 Axes>"
      ]
     },
     "metadata": {
      "needs_background": "light"
     },
     "output_type": "display_data"
    }
   ],
   "source": [
    "import plot_lib\n",
    "import torch\n",
    "data = torch.zeros([2, 5, 3])\n",
    "data[0] = torch.tensor([[1,2,3], [4,5,6], [7,8,9], [10,11,12],[13,14,15]])\n",
    "data[1] = torch.tensor([[1,2,3], [4,5,6], [7,8,9], [10,11,12],[13,14,15]])\n",
    "\n",
    "# example 1\n",
    "plot_lib.plot_tensor(data.numpy(), color_on_value=True, shift=0.1, title='data in shape %s' % (str(data.shape)))\n",
    "plot_lib.plot_tensor(data[0:1], color_on_value=True, title='data[0:1]')\n",
    "plot_lib.plot_tensor(data[0:1].view(1, -1).unsqueeze(0), color_on_value=True, \n",
    "                     title='data[0:1].view(1,-1).unsqueeze(0)')\n",
    "\n",
    "# example 2\n",
    "# plot_lib.plot_tensor(torch.tensor([[1,2,3,4,5]]).unsqueeze(0).permute(0, 2, 1), color_on_value=True)"
   ]
  },
  {
   "cell_type": "markdown",
   "metadata": {},
   "source": [
    "The end"
   ]
  }
 ],
 "metadata": {
  "kernelspec": {
   "display_name": "Python 3",
   "language": "python",
   "name": "python3"
  },
  "language_info": {
   "codemirror_mode": {
    "name": "ipython",
    "version": 3
   },
   "file_extension": ".py",
   "mimetype": "text/x-python",
   "name": "python",
   "nbconvert_exporter": "python",
   "pygments_lexer": "ipython3",
   "version": "3.7.7"
  }
 },
 "nbformat": 4,
 "nbformat_minor": 4
}
